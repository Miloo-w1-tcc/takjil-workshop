{
 "cells": [
  {
   "cell_type": "markdown",
   "metadata": {
    "colab_type": "text",
    "id": "2rahy7feBIgV"
   },
   "source": [
    "# Exploratory data analysis"
   ]
  },
  {
   "cell_type": "code",
   "execution_count": null,
   "metadata": {
    "scrolled": true
   },
   "outputs": [],
   "source": [
    "!pip install wordcloud\n",
    "!pip install seaborn\n",
    "!pip install re"
   ]
  },
  {
   "cell_type": "markdown",
   "metadata": {
    "colab_type": "text",
    "id": "4axyBho7ygw0"
   },
   "source": [
    "## Import dependencies"
   ]
  },
  {
   "cell_type": "code",
   "execution_count": null,
   "metadata": {
    "colab": {},
    "colab_type": "code",
    "id": "0g0NCxKAyjMp"
   },
   "outputs": [],
   "source": [
    "import pandas as pd\n",
    "import matplotlib.pyplot as plt\n",
    "from wordcloud import WordCloud\n",
    "import seaborn as sns \n",
    "import math \n",
    "from matplotlib.pyplot import figure\n",
    "import matplotlib.ticker as tkr\n",
    "from matplotlib.ticker import FuncFormatter\n",
    "import re\n",
    "import string\n",
    "%matplotlib inline "
   ]
  },
  {
   "cell_type": "markdown",
   "metadata": {
    "colab_type": "text",
    "id": "1xqeGYqnysai"
   },
   "source": [
    "## Data Preparation"
   ]
  },
  {
   "cell_type": "code",
   "execution_count": null,
   "metadata": {
    "colab": {},
    "colab_type": "code",
    "id": "B_8Udg9By07J"
   },
   "outputs": [],
   "source": [
    "# Read data csv\n",
    "filename = 'Data/all_keywords.csv'\n",
    "df_data = pd.read_csv(filename).drop_duplicates()"
   ]
  },
  {
   "cell_type": "code",
   "execution_count": null,
   "metadata": {},
   "outputs": [],
   "source": [
    "def normalize(str_input):\n",
    "    str_input = str(str_input)\n",
    "    if str_input[-1].lower() == 'k':\n",
    "        return float(str_input[:-1])*1000\n",
    "    else : \n",
    "        return float(str_input)"
   ]
  },
  {
   "cell_type": "code",
   "execution_count": null,
   "metadata": {
    "colab": {
     "base_uri": "https://localhost:8080/",
     "height": 484
    },
    "colab_type": "code",
    "executionInfo": {
     "elapsed": 3832,
     "status": "ok",
     "timestamp": 1583998355863,
     "user": {
      "displayName": "Fahmi Salman Nurfikri",
      "photoUrl": "https://lh3.googleusercontent.com/a-/AOh14Ggy-0u3qgQL7STI6OTuEftXs0gMenJ6_LpzQJSxcw=s64",
      "userId": "00245196995893858079"
     },
     "user_tz": -420
    },
    "id": "3MC6eEegy9sX",
    "outputId": "b39de782-3dc2-4bc8-f72d-698c7444ca3c"
   },
   "outputs": [],
   "source": [
    "df_data.head()"
   ]
  },
  {
   "cell_type": "code",
   "execution_count": null,
   "metadata": {
    "colab": {},
    "colab_type": "code",
    "id": "qvqfgPYHqHFB"
   },
   "outputs": [],
   "source": [
    "df_data = df_data.dropna(subset=['Text'])"
   ]
  },
  {
   "cell_type": "code",
   "execution_count": null,
   "metadata": {},
   "outputs": [],
   "source": [
    "df_data['Timestamp'] = pd.to_datetime(df_data['Timestamp'])\n",
    "df_data['Timestamp'] = df_data['Timestamp'].dt.date\n",
    "df_data['Timestamp'] = pd.to_datetime(df_data['Timestamp'])\n",
    "\n",
    "df_data['Comments'] = df_data['Comments'].fillna('0')\n",
    "df_data['Comments'] = df_data['Comments'].apply(normalize)\n",
    "\n",
    "df_data['Likes'] = df_data['Likes'].fillna('0')\n",
    "df_data['Likes'] = df_data['Likes'].apply(normalize)\n",
    "\n",
    "df_data['Retweets'] = df_data['Retweets'].fillna('0')\n",
    "df_data['Retweets'] = df_data['Retweets'].apply(normalize)\n",
    "\n",
    "df_data['has_image'] = df_data['Image link'].apply(lambda x:0 if x=='[]' else 1 )"
   ]
  },
  {
   "cell_type": "code",
   "execution_count": null,
   "metadata": {},
   "outputs": [],
   "source": [
    "df_data.info()"
   ]
  },
  {
   "cell_type": "code",
   "execution_count": null,
   "metadata": {},
   "outputs": [],
   "source": [
    "df_data.head()"
   ]
  },
  {
   "cell_type": "markdown",
   "metadata": {
    "colab_type": "text",
    "id": "37e8m5huzEQn"
   },
   "source": [
    "## Exploratory data analysis"
   ]
  },
  {
   "cell_type": "code",
   "execution_count": null,
   "metadata": {},
   "outputs": [],
   "source": [
    "df_kw =  df_data[['keyword','Retweets','Comments','Likes','has_image']].groupby(['keyword']).agg({'Retweets':sum,\n",
    "                                                                                            'Comments':sum,\n",
    "                                                                                            'Likes':sum,\n",
    "                                                                                            'has_image':sum}).reset_index()\n"
   ]
  },
  {
   "cell_type": "markdown",
   "metadata": {
    "colab_type": "text",
    "id": "ot3tLTZQzHSi"
   },
   "source": [
    "### Class (Complaint Type) Distribution"
   ]
  },
  {
   "cell_type": "code",
   "execution_count": null,
   "metadata": {
    "colab": {
     "base_uri": "https://localhost:8080/",
     "height": 115
    },
    "colab_type": "code",
    "executionInfo": {
     "elapsed": 3793,
     "status": "ok",
     "timestamp": 1583998355865,
     "user": {
      "displayName": "Fahmi Salman Nurfikri",
      "photoUrl": "https://lh3.googleusercontent.com/a-/AOh14Ggy-0u3qgQL7STI6OTuEftXs0gMenJ6_LpzQJSxcw=s64",
      "userId": "00245196995893858079"
     },
     "user_tz": -420
    },
    "id": "oACYquZxzN5B",
    "outputId": "776325bc-2e78-4378-fcf3-5a423be6f31a"
   },
   "outputs": [],
   "source": [
    "df_data['keyword'].value_counts()"
   ]
  },
  {
   "cell_type": "code",
   "execution_count": null,
   "metadata": {
    "colab": {
     "base_uri": "https://localhost:8080/",
     "height": 263
    },
    "colab_type": "code",
    "executionInfo": {
     "elapsed": 3766,
     "status": "ok",
     "timestamp": 1583998355866,
     "user": {
      "displayName": "Fahmi Salman Nurfikri",
      "photoUrl": "https://lh3.googleusercontent.com/a-/AOh14Ggy-0u3qgQL7STI6OTuEftXs0gMenJ6_LpzQJSxcw=s64",
      "userId": "00245196995893858079"
     },
     "user_tz": -420
    },
    "id": "I3DU_4OlzQMt",
    "outputId": "e89b5df4-5c16-4fac-8f99-4911eb4ffbd5"
   },
   "outputs": [],
   "source": [
    "df_data['keyword'].value_counts().plot(kind='pie')"
   ]
  },
  {
   "cell_type": "code",
   "execution_count": null,
   "metadata": {},
   "outputs": [],
   "source": [
    "dd = df_data.groupby('keyword').count()\n",
    "dd = dd.reset_index()\n",
    "figure(figsize=(15, 6), dpi=80)\n",
    "ax = sns.barplot(x=\"keyword\", y=\"Text\", data=dd)\n",
    "for index, row in dd.iterrows():\n",
    "    ax.text(row.name,row.Text, round(row.Text,2), color='black', ha=\"center\")"
   ]
  },
  {
   "cell_type": "markdown",
   "metadata": {
    "colab_type": "text",
    "id": "LAyD4tevzWDl"
   },
   "source": [
    "### Class Distribution Based on Percentage"
   ]
  },
  {
   "cell_type": "code",
   "execution_count": null,
   "metadata": {
    "colab": {},
    "colab_type": "code",
    "id": "RoJxzx8uzWgH"
   },
   "outputs": [],
   "source": [
    "df_percent = ((df_data['keyword'].value_counts() / df_data['keyword'].value_counts().sum())*100)"
   ]
  },
  {
   "cell_type": "code",
   "execution_count": null,
   "metadata": {
    "colab": {
     "base_uri": "https://localhost:8080/",
     "height": 115
    },
    "colab_type": "code",
    "executionInfo": {
     "elapsed": 3735,
     "status": "ok",
     "timestamp": 1583998355868,
     "user": {
      "displayName": "Fahmi Salman Nurfikri",
      "photoUrl": "https://lh3.googleusercontent.com/a-/AOh14Ggy-0u3qgQL7STI6OTuEftXs0gMenJ6_LpzQJSxcw=s64",
      "userId": "00245196995893858079"
     },
     "user_tz": -420
    },
    "id": "E8ceVV4OzZKt",
    "outputId": "ec0b8e17-03b7-4c4d-a32c-a5cdcb631660"
   },
   "outputs": [],
   "source": [
    "df_percent"
   ]
  },
  {
   "cell_type": "code",
   "execution_count": null,
   "metadata": {
    "colab": {
     "base_uri": "https://localhost:8080/",
     "height": 348
    },
    "colab_type": "code",
    "executionInfo": {
     "elapsed": 4308,
     "status": "ok",
     "timestamp": 1583998356470,
     "user": {
      "displayName": "Fahmi Salman Nurfikri",
      "photoUrl": "https://lh3.googleusercontent.com/a-/AOh14Ggy-0u3qgQL7STI6OTuEftXs0gMenJ6_LpzQJSxcw=s64",
      "userId": "00245196995893858079"
     },
     "user_tz": -420
    },
    "id": "PzkLP3N0zZ-s",
    "outputId": "391fcf25-3af4-4c78-e6af-5bb11c87cd2c"
   },
   "outputs": [],
   "source": [
    "df_percent.plot(kind='bar')"
   ]
  },
  {
   "cell_type": "markdown",
   "metadata": {},
   "source": [
    "### Number of Retweets"
   ]
  },
  {
   "cell_type": "code",
   "execution_count": null,
   "metadata": {},
   "outputs": [],
   "source": [
    "comma_fmt = FuncFormatter(lambda x, p: format(int(x), ','))\n",
    "figure(figsize=(15, 6), dpi=80)\n",
    "ax = sns.barplot(x=\"keyword\", y=\"Retweets\", data=df_kw)\n",
    "for index, row in df_kw.iterrows():\n",
    "    ax.text(row.name,row.Retweets, round(row.Retweets,0)/1000, color='black', ha=\"center\")\n",
    "for t in ax.texts:\n",
    "    t.set_text(t.get_text()+' K')\n",
    "ax.yaxis.set_major_formatter(tkr.FuncFormatter(lambda x, pos: '{:,.1f}'.format(x/1000) + 'K'))"
   ]
  },
  {
   "cell_type": "markdown",
   "metadata": {},
   "source": [
    "### Number of Comments"
   ]
  },
  {
   "cell_type": "code",
   "execution_count": null,
   "metadata": {},
   "outputs": [],
   "source": [
    "figure(figsize=(15, 6), dpi=80)\n",
    "ax = sns.barplot(x=\"keyword\", y=\"Comments\", data=df_kw)\n",
    "for index, row in df_kw.iterrows():\n",
    "    ax.text(row.name,row.Comments, round(row.Comments/1000,2), color='black', ha=\"center\")\n",
    "for t in ax.texts:\n",
    "    t.set_text(t.get_text()+' K')\n",
    "ax.yaxis.set_major_formatter(tkr.FuncFormatter(lambda x, pos: '{:,.1f}'.format(x/1000) + 'K'))"
   ]
  },
  {
   "cell_type": "markdown",
   "metadata": {
    "colab_type": "text",
    "id": "02jtJkMszmBx"
   },
   "source": [
    "### Number of Likes"
   ]
  },
  {
   "cell_type": "code",
   "execution_count": null,
   "metadata": {
    "colab": {
     "base_uri": "https://localhost:8080/",
     "height": 115
    },
    "colab_type": "code",
    "executionInfo": {
     "elapsed": 7735,
     "status": "ok",
     "timestamp": 1583998359978,
     "user": {
      "displayName": "Fahmi Salman Nurfikri",
      "photoUrl": "https://lh3.googleusercontent.com/a-/AOh14Ggy-0u3qgQL7STI6OTuEftXs0gMenJ6_LpzQJSxcw=s64",
      "userId": "00245196995893858079"
     },
     "user_tz": -420
    },
    "id": "Y-LJZH0RzmeD",
    "outputId": "7df92edd-ded1-4c38-a4cb-51bf5d9c6777"
   },
   "outputs": [],
   "source": [
    "figure(figsize=(15, 6), dpi=80)\n",
    "ax = sns.barplot(x=\"keyword\", y=\"Likes\", data=df_kw)\n",
    "for index, row in df_kw.iterrows():\n",
    "    ax.text(row.name,row.Likes, round(row.Likes/1000,2), color='black', ha=\"center\")\n",
    "for t in ax.texts:\n",
    "    t.set_text(t.get_text()+' K')\n",
    "ax.yaxis.set_major_formatter(tkr.FuncFormatter(lambda x, pos: '{:,.1f}'.format(x/1000) + 'K'))"
   ]
  },
  {
   "cell_type": "markdown",
   "metadata": {
    "colab": {
     "base_uri": "https://localhost:8080/",
     "height": 115
    },
    "colab_type": "code",
    "executionInfo": {
     "elapsed": 7704,
     "status": "ok",
     "timestamp": 1583998359979,
     "user": {
      "displayName": "Fahmi Salman Nurfikri",
      "photoUrl": "https://lh3.googleusercontent.com/a-/AOh14Ggy-0u3qgQL7STI6OTuEftXs0gMenJ6_LpzQJSxcw=s64",
      "userId": "00245196995893858079"
     },
     "user_tz": -420
    },
    "id": "EWbCz4ezzprB",
    "outputId": "d5fefa74-50e4-463c-dbfd-66c219a167c0"
   },
   "source": [
    "### Number of tweets which have images"
   ]
  },
  {
   "cell_type": "code",
   "execution_count": null,
   "metadata": {
    "colab": {},
    "colab_type": "code",
    "id": "L_a8MA_PzsTC"
   },
   "outputs": [],
   "source": [
    "figure(figsize=(15, 6), dpi=80)\n",
    "ax = sns.barplot(x=\"keyword\", y=\"has_image\", data=df_kw)\n",
    "for index, row in df_kw.iterrows():\n",
    "    ax.text(row.name,row.has_image, round(row.has_image,2), color='black', ha=\"center\")"
   ]
  },
  {
   "cell_type": "markdown",
   "metadata": {
    "colab": {
     "base_uri": "https://localhost:8080/",
     "height": 115
    },
    "colab_type": "code",
    "executionInfo": {
     "elapsed": 7644,
     "status": "ok",
     "timestamp": 1583998359982,
     "user": {
      "displayName": "Fahmi Salman Nurfikri",
      "photoUrl": "https://lh3.googleusercontent.com/a-/AOh14Ggy-0u3qgQL7STI6OTuEftXs0gMenJ6_LpzQJSxcw=s64",
      "userId": "00245196995893858079"
     },
     "user_tz": -420
    },
    "id": "IAIT_VXnzx00",
    "outputId": "2122d49b-db2b-43c5-fe68-b1efef55046d"
   },
   "source": [
    "### Top Account "
   ]
  },
  {
   "cell_type": "code",
   "execution_count": null,
   "metadata": {
    "colab": {
     "base_uri": "https://localhost:8080/",
     "height": 115
    },
    "colab_type": "code",
    "executionInfo": {
     "elapsed": 7601,
     "status": "ok",
     "timestamp": 1583998359983,
     "user": {
      "displayName": "Fahmi Salman Nurfikri",
      "photoUrl": "https://lh3.googleusercontent.com/a-/AOh14Ggy-0u3qgQL7STI6OTuEftXs0gMenJ6_LpzQJSxcw=s64",
      "userId": "00245196995893858079"
     },
     "user_tz": -420
    },
    "id": "XXpi_hvGzzMI",
    "outputId": "dc2c0a66-2b41-402e-ee5d-2d2e517b4114"
   },
   "outputs": [],
   "source": [
    "df_acc = pd.DataFrame(df_data['UserName'].value_counts()).reset_index()\n",
    "top = 10\n",
    "df_acc.columns=['user','count']\n",
    "figure(figsize=(15, 6), dpi=80)\n",
    "ax = sns.barplot(x=\"user\", y=\"count\", data=df_acc[:top])\n",
    "for index, row in df_acc[:top].iterrows():\n",
    "    ax.text(row.name,row['count'], round(row['count'],2), color='black', ha=\"center\")"
   ]
  },
  {
   "cell_type": "code",
   "execution_count": null,
   "metadata": {
    "colab": {
     "base_uri": "https://localhost:8080/",
     "height": 868
    },
    "colab_type": "code",
    "executionInfo": {
     "elapsed": 44573,
     "status": "ok",
     "timestamp": 1583998396995,
     "user": {
      "displayName": "Fahmi Salman Nurfikri",
      "photoUrl": "https://lh3.googleusercontent.com/a-/AOh14Ggy-0u3qgQL7STI6OTuEftXs0gMenJ6_LpzQJSxcw=s64",
      "userId": "00245196995893858079"
     },
     "user_tz": -420
    },
    "id": "SExqFh3Cz0wO",
    "outputId": "4f13e57f-fdb3-468f-e0cc-b33ec88c320d"
   },
   "outputs": [],
   "source": [
    "df_data[df_data['UserName'] == '@adi_rossoneri'].head()"
   ]
  },
  {
   "cell_type": "markdown",
   "metadata": {
    "colab_type": "text",
    "id": "TAH-wvKsBfPo"
   },
   "source": []
  },
  {
   "cell_type": "markdown",
   "metadata": {},
   "source": [
    "### Daily Trend"
   ]
  },
  {
   "cell_type": "code",
   "execution_count": null,
   "metadata": {},
   "outputs": [],
   "source": [
    "df_trend = df_data[['Timestamp']].groupby(['Timestamp']).size().reset_index(name='counts')\n",
    "df_trend_kw = df_data[['Timestamp','keyword']].groupby(['Timestamp','keyword']).size().reset_index(name='counts')"
   ]
  },
  {
   "cell_type": "code",
   "execution_count": null,
   "metadata": {},
   "outputs": [],
   "source": [
    "figure(figsize=(15, 6), dpi=80)\n",
    "ax = sns.lineplot(data=df_trend, x=\"Timestamp\", y=\"counts\", markers=True, dashes=False)\n",
    "for x, y in zip(df_trend['Timestamp'], df_trend['counts']):\n",
    "    plt.text(x = x,\n",
    "    y = y, \n",
    "    s = '{:.0f}'.format(y), \n",
    "    color = 'black') "
   ]
  },
  {
   "cell_type": "markdown",
   "metadata": {},
   "source": [
    "### Daily Trend per Keywords "
   ]
  },
  {
   "cell_type": "code",
   "execution_count": null,
   "metadata": {},
   "outputs": [],
   "source": [
    "figure(figsize=(15, 6), dpi=80)\n",
    "sns.lineplot(data=df_trend_kw, x=\"Timestamp\", y=\"counts\", hue=\"keyword\", markers=True, dashes=False)\n"
   ]
  },
  {
   "cell_type": "markdown",
   "metadata": {
    "colab_type": "text",
    "id": "AJmP7Ohgz79K"
   },
   "source": [
    "### Word Distribution with WordCloud"
   ]
  },
  {
   "cell_type": "code",
   "execution_count": null,
   "metadata": {},
   "outputs": [],
   "source": [
    "stopword= [line.rstrip('\\n') for line in open('Data/stopword.txt')]"
   ]
  },
  {
   "cell_type": "code",
   "execution_count": null,
   "metadata": {
    "colab": {},
    "colab_type": "code",
    "id": "iT2YpJ_0IDd7"
   },
   "outputs": [],
   "source": [
    "def preprocessing_tweet(tweet):\n",
    "    tweet = str(tweet)\n",
    "    \n",
    "    #remove link/url (http)\n",
    "    tw_remove_link=' '.join(re.sub(r\"h\\w+(:).\\S+\", \" \", tweet.lower()).split())\n",
    "    \n",
    "    #remove hashtag\n",
    "    tw_remove_hashtag=' '.join(re.sub(r\"(#).\\S+\", \" \", tw_remove_link.lower()).split())\n",
    "    \n",
    "    #remove mention @\n",
    "    tw_remove_mention = ' '.join(re.sub(r\"(@).\\S+\", \" \", tw_remove_hashtag.lower()).split()) \n",
    "           \n",
    "    #remove cc/via/\n",
    "    tw_remove_ccvia = ' '.join(re.sub(r'\\b(cc|RT|rt\\b):?[ ](URL|@[^ ]+)', \" \", tw_remove_mention.lower()).split())\n",
    "    \n",
    "    #remove punctuation\n",
    "    tw_remove_puc = tw_remove_ccvia.strip(string.punctuation)\n",
    "    \n",
    "    #remove stopword\n",
    "    tw_sw_removal = filter(lambda x:x not in stopword, tw_remove_puc.split())\n",
    "    \n",
    "    return ' '.join(tw_sw_removal)"
   ]
  },
  {
   "cell_type": "code",
   "execution_count": null,
   "metadata": {},
   "outputs": [],
   "source": [
    "df_data['clean'] = df_data['Text'].apply(preprocessing_tweet)"
   ]
  },
  {
   "cell_type": "code",
   "execution_count": null,
   "metadata": {
    "colab": {},
    "colab_type": "code",
    "id": "QA9C1QiBz8dl"
   },
   "outputs": [],
   "source": [
    "text = ' '.join(df_data['clean'])"
   ]
  },
  {
   "cell_type": "code",
   "execution_count": null,
   "metadata": {
    "colab": {
     "base_uri": "https://localhost:8080/",
     "height": 52
    },
    "colab_type": "code",
    "executionInfo": {
     "elapsed": 44538,
     "status": "ok",
     "timestamp": 1583998396998,
     "user": {
      "displayName": "Fahmi Salman Nurfikri",
      "photoUrl": "https://lh3.googleusercontent.com/a-/AOh14Ggy-0u3qgQL7STI6OTuEftXs0gMenJ6_LpzQJSxcw=s64",
      "userId": "00245196995893858079"
     },
     "user_tz": -420
    },
    "id": "laVauMDUz-HE",
    "outputId": "f4ce3df6-8aa3-46f4-8918-c0e02b42cf7c"
   },
   "outputs": [],
   "source": [
    "text"
   ]
  },
  {
   "cell_type": "code",
   "execution_count": null,
   "metadata": {
    "colab": {},
    "colab_type": "code",
    "id": "VJypPV0Az-sX"
   },
   "outputs": [],
   "source": [
    "wordcloud_tweet = WordCloud(max_font_size=100, max_words=100, background_color=\"white\").generate(text)"
   ]
  },
  {
   "cell_type": "code",
   "execution_count": null,
   "metadata": {
    "colab": {
     "base_uri": "https://localhost:8080/",
     "height": 32
    },
    "colab_type": "code",
    "executionInfo": {
     "elapsed": 44533,
     "status": "ok",
     "timestamp": 1583998397000,
     "user": {
      "displayName": "Fahmi Salman Nurfikri",
      "photoUrl": "https://lh3.googleusercontent.com/a-/AOh14Ggy-0u3qgQL7STI6OTuEftXs0gMenJ6_LpzQJSxcw=s64",
      "userId": "00245196995893858079"
     },
     "user_tz": -420
    },
    "id": "rBZ8QvWC0D_r",
    "outputId": "f873c2be-26da-45f4-b387-e11def8edd1e"
   },
   "outputs": [],
   "source": [
    "wordcloud_tweet"
   ]
  },
  {
   "cell_type": "code",
   "execution_count": null,
   "metadata": {
    "colab": {
     "base_uri": "https://localhost:8080/",
     "height": 196
    },
    "colab_type": "code",
    "executionInfo": {
     "elapsed": 44530,
     "status": "ok",
     "timestamp": 1583998397001,
     "user": {
      "displayName": "Fahmi Salman Nurfikri",
      "photoUrl": "https://lh3.googleusercontent.com/a-/AOh14Ggy-0u3qgQL7STI6OTuEftXs0gMenJ6_LpzQJSxcw=s64",
      "userId": "00245196995893858079"
     },
     "user_tz": -420
    },
    "id": "F00EJ2ij0GWo",
    "outputId": "6abf2649-8f3a-4ebe-98e9-f75b6853b673"
   },
   "outputs": [],
   "source": [
    "plt.figure()\n",
    "plt.imshow(wordcloud_tweet, interpolation=\"bilinear\")\n",
    "plt.axis(\"off\")\n",
    "plt.show()"
   ]
  },
  {
   "cell_type": "code",
   "execution_count": null,
   "metadata": {},
   "outputs": [],
   "source": [
    "wordcloud = WordCloud()\n",
    "wordcloud.generate(df_data[df_data['keyword'] == 'kolak']['clean'].to_string())\n",
    "figure(figsize=(15, 6), dpi=80)\n",
    "plt.imshow(wordcloud, interpolation=\"bilinear\")\n",
    "plt.axis('off')\n",
    "plt.show()"
   ]
  },
  {
   "cell_type": "code",
   "execution_count": null,
   "metadata": {},
   "outputs": [],
   "source": [
    "wordcloud = WordCloud()\n",
    "wordcloud.generate(df_data[df_data['keyword'] == 'gorengan']['clean'].to_string())\n",
    "figure(figsize=(15, 6), dpi=80)\n",
    "plt.imshow(wordcloud, interpolation=\"bilinear\")\n",
    "plt.axis('off')\n",
    "plt.show()"
   ]
  },
  {
   "cell_type": "code",
   "execution_count": null,
   "metadata": {},
   "outputs": [],
   "source": [
    "wordcloud = WordCloud()\n",
    "wordcloud.generate(df_data[df_data['keyword'] == 'kurma']['clean'].to_string())\n",
    "figure(figsize=(15, 6), dpi=80)\n",
    "plt.imshow(wordcloud, interpolation=\"bilinear\")\n",
    "plt.axis('off')\n",
    "plt.show()"
   ]
  },
  {
   "cell_type": "code",
   "execution_count": null,
   "metadata": {},
   "outputs": [],
   "source": [
    "wordcloud = WordCloud()\n",
    "wordcloud.generate(df_data[df_data['keyword'] == 'es dawet']['clean'].to_string())\n",
    "figure(figsize=(15, 6), dpi=80)\n",
    "plt.imshow(wordcloud, interpolation=\"bilinear\")\n",
    "plt.axis('off')\n",
    "plt.show()"
   ]
  },
  {
   "cell_type": "code",
   "execution_count": null,
   "metadata": {},
   "outputs": [],
   "source": [
    "wordcloud = WordCloud()\n",
    "wordcloud.generate(df_data[df_data['keyword'] == 'sop buah']['clean'].to_string())\n",
    "figure(figsize=(15, 6), dpi=80)\n",
    "plt.imshow(wordcloud, interpolation=\"bilinear\")\n",
    "plt.axis('off')\n",
    "plt.show()"
   ]
  }
 ],
 "metadata": {
  "colab": {
   "collapsed_sections": [],
   "name": "3. Simple_EDA.ipynb",
   "provenance": []
  },
  "kernelspec": {
   "display_name": "Python 3",
   "language": "python",
   "name": "python3"
  },
  "language_info": {
   "codemirror_mode": {
    "name": "ipython",
    "version": 3
   },
   "file_extension": ".py",
   "mimetype": "text/x-python",
   "name": "python",
   "nbconvert_exporter": "python",
   "pygments_lexer": "ipython3",
   "version": "3.8.5"
  }
 },
 "nbformat": 4,
 "nbformat_minor": 1
}

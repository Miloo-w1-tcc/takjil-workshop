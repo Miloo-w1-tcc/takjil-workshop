{
 "cells": [
  {
   "cell_type": "markdown",
   "metadata": {
    "colab_type": "text",
    "id": "2rahy7feBIgV"
   },
   "source": [
    "# Exploratory data analysis"
   ]
  },
  {
   "cell_type": "code",
   "execution_count": 1,
   "metadata": {
    "scrolled": true
   },
   "outputs": [
    {
     "name": "stdout",
     "output_type": "stream",
     "text": [
      "Requirement already satisfied: wordcloud in /home/fahmisalman/anaconda3/lib/python3.7/site-packages (1.8.1)\n",
      "Requirement already satisfied: numpy>=1.6.1 in /home/fahmisalman/anaconda3/lib/python3.7/site-packages (from wordcloud) (1.19.2)\n",
      "Requirement already satisfied: pillow in /home/fahmisalman/anaconda3/lib/python3.7/site-packages (from wordcloud) (8.0.1)\n",
      "Requirement already satisfied: matplotlib in /home/fahmisalman/anaconda3/lib/python3.7/site-packages (from wordcloud) (3.3.2)\n",
      "Requirement already satisfied: certifi>=2020.06.20 in /home/fahmisalman/anaconda3/lib/python3.7/site-packages (from matplotlib->wordcloud) (2020.6.20)\n",
      "Requirement already satisfied: python-dateutil>=2.1 in /home/fahmisalman/anaconda3/lib/python3.7/site-packages (from matplotlib->wordcloud) (2.8.1)\n",
      "Requirement already satisfied: pyparsing!=2.0.4,!=2.1.2,!=2.1.6,>=2.0.3 in /home/fahmisalman/anaconda3/lib/python3.7/site-packages (from matplotlib->wordcloud) (2.4.7)\n",
      "Requirement already satisfied: kiwisolver>=1.0.1 in /home/fahmisalman/anaconda3/lib/python3.7/site-packages (from matplotlib->wordcloud) (1.3.0)\n",
      "Requirement already satisfied: cycler>=0.10 in /home/fahmisalman/anaconda3/lib/python3.7/site-packages (from matplotlib->wordcloud) (0.10.0)\n",
      "Requirement already satisfied: six>=1.5 in /home/fahmisalman/anaconda3/lib/python3.7/site-packages (from python-dateutil>=2.1->matplotlib->wordcloud) (1.15.0)\n"
     ]
    }
   ],
   "source": [
    "!pip install wordcloud"
   ]
  },
  {
   "cell_type": "markdown",
   "metadata": {
    "colab_type": "text",
    "id": "4axyBho7ygw0"
   },
   "source": [
    "## Import dependencies"
   ]
  },
  {
   "cell_type": "code",
   "execution_count": 2,
   "metadata": {
    "colab": {},
    "colab_type": "code",
    "id": "0g0NCxKAyjMp"
   },
   "outputs": [],
   "source": [
    "import pandas as pd\n",
    "import matplotlib.pyplot as plt\n",
    "from wordcloud import WordCloud"
   ]
  },
  {
   "cell_type": "markdown",
   "metadata": {
    "colab_type": "text",
    "id": "1xqeGYqnysai"
   },
   "source": [
    "## Data Preparation"
   ]
  },
  {
   "cell_type": "code",
   "execution_count": 6,
   "metadata": {
    "colab": {},
    "colab_type": "code",
    "id": "cwbC1XX8AfoD"
   },
   "outputs": [],
   "source": [
    "# Get data from github\n",
    "!wget --quiet 'https://raw.githubusercontent.com/Miloo-w1-tcc/Modul/master/Sample.xlsx'"
   ]
  },
  {
   "cell_type": "code",
   "execution_count": 4,
   "metadata": {
    "colab": {},
    "colab_type": "code",
    "id": "B_8Udg9By07J"
   },
   "outputs": [],
   "source": [
    "# Read data csv\n",
    "filename = 'Data/all_keywords.csv'\n",
    "df_data = pd.read_csv(filename)"
   ]
  },
  {
   "cell_type": "code",
   "execution_count": 5,
   "metadata": {
    "colab": {
     "base_uri": "https://localhost:8080/",
     "height": 484
    },
    "colab_type": "code",
    "executionInfo": {
     "elapsed": 3832,
     "status": "ok",
     "timestamp": 1583998355863,
     "user": {
      "displayName": "Fahmi Salman Nurfikri",
      "photoUrl": "https://lh3.googleusercontent.com/a-/AOh14Ggy-0u3qgQL7STI6OTuEftXs0gMenJ6_LpzQJSxcw=s64",
      "userId": "00245196995893858079"
     },
     "user_tz": -420
    },
    "id": "3MC6eEegy9sX",
    "outputId": "b39de782-3dc2-4bc8-f72d-698c7444ca3c"
   },
   "outputs": [
    {
     "data": {
      "text/html": [
       "<div>\n",
       "<style scoped>\n",
       "    .dataframe tbody tr th:only-of-type {\n",
       "        vertical-align: middle;\n",
       "    }\n",
       "\n",
       "    .dataframe tbody tr th {\n",
       "        vertical-align: top;\n",
       "    }\n",
       "\n",
       "    .dataframe thead th {\n",
       "        text-align: right;\n",
       "    }\n",
       "</style>\n",
       "<table border=\"1\" class=\"dataframe\">\n",
       "  <thead>\n",
       "    <tr style=\"text-align: right;\">\n",
       "      <th></th>\n",
       "      <th>UserScreenName</th>\n",
       "      <th>UserName</th>\n",
       "      <th>Timestamp</th>\n",
       "      <th>Text</th>\n",
       "      <th>Embedded_text</th>\n",
       "      <th>Emojis</th>\n",
       "      <th>Comments</th>\n",
       "      <th>Likes</th>\n",
       "      <th>Retweets</th>\n",
       "      <th>Image link</th>\n",
       "      <th>Tweet URL</th>\n",
       "      <th>keyword</th>\n",
       "    </tr>\n",
       "  </thead>\n",
       "  <tbody>\n",
       "    <tr>\n",
       "      <th>0</th>\n",
       "      <td>The Grinch</td>\n",
       "      <td>@gloomybloomy_</td>\n",
       "      <td>2021-04-16T21:57:12.000Z</td>\n",
       "      <td>Karma is not real, but kurma is.</td>\n",
       "      <td>NaN</td>\n",
       "      <td>NaN</td>\n",
       "      <td>NaN</td>\n",
       "      <td>NaN</td>\n",
       "      <td>1</td>\n",
       "      <td>[]</td>\n",
       "      <td>https://twitter.com/gloomybloomy_/status/13831...</td>\n",
       "      <td>kurma</td>\n",
       "    </tr>\n",
       "    <tr>\n",
       "      <th>1</th>\n",
       "      <td>Iftahfia</td>\n",
       "      <td>@kentangmaribuan</td>\n",
       "      <td>2021-04-15T13:18:30.000Z</td>\n",
       "      <td>Replying to \\n@kentangmaribuan</td>\n",
       "      <td>Yg sbenernya gw gedeg dan bikin badmod. Di ant...</td>\n",
       "      <td>NaN</td>\n",
       "      <td>1</td>\n",
       "      <td>NaN</td>\n",
       "      <td>NaN</td>\n",
       "      <td>[]</td>\n",
       "      <td>https://twitter.com/kentangmaribuan/status/138...</td>\n",
       "      <td>kurma</td>\n",
       "    </tr>\n",
       "    <tr>\n",
       "      <th>2</th>\n",
       "      <td>Iftahfia</td>\n",
       "      <td>@kentangmaribuan</td>\n",
       "      <td>2021-04-15T13:18:31.000Z</td>\n",
       "      <td>5 jt\\n5. Nanti habis solat akan ada pembagian ...</td>\n",
       "      <td>NaN</td>\n",
       "      <td>NaN</td>\n",
       "      <td>1</td>\n",
       "      <td>NaN</td>\n",
       "      <td>NaN</td>\n",
       "      <td>[]</td>\n",
       "      <td>https://twitter.com/kentangmaribuan/status/138...</td>\n",
       "      <td>kurma</td>\n",
       "    </tr>\n",
       "    <tr>\n",
       "      <th>3</th>\n",
       "      <td>Yuni Cahya</td>\n",
       "      <td>@yuni_ce</td>\n",
       "      <td>2021-04-14T13:30:18.000Z</td>\n",
       "      <td>kurma keijuu ini....gak ada lawan...</td>\n",
       "      <td>NaN</td>\n",
       "      <td>NaN</td>\n",
       "      <td>NaN</td>\n",
       "      <td>NaN</td>\n",
       "      <td>NaN</td>\n",
       "      <td>['https://pbs.twimg.com/media/Ey8BkYMUUAAUZjl?...</td>\n",
       "      <td>https://twitter.com/yuni_ce/status/13823253436...</td>\n",
       "      <td>kurma</td>\n",
       "    </tr>\n",
       "    <tr>\n",
       "      <th>4</th>\n",
       "      <td>FESS</td>\n",
       "      <td>@FOODFESS2</td>\n",
       "      <td>2021-04-13T17:41:16.000Z</td>\n",
       "      <td>fess kalian sahur ada yg ga pake nasi? biasany...</td>\n",
       "      <td>NaN</td>\n",
       "      <td>NaN</td>\n",
       "      <td>28</td>\n",
       "      <td>1</td>\n",
       "      <td>1</td>\n",
       "      <td>[]</td>\n",
       "      <td>https://twitter.com/FOODFESS2/status/138202611...</td>\n",
       "      <td>kurma</td>\n",
       "    </tr>\n",
       "  </tbody>\n",
       "</table>\n",
       "</div>"
      ],
      "text/plain": [
       "  UserScreenName          UserName                 Timestamp  \\\n",
       "0     The Grinch    @gloomybloomy_  2021-04-16T21:57:12.000Z   \n",
       "1       Iftahfia  @kentangmaribuan  2021-04-15T13:18:30.000Z   \n",
       "2       Iftahfia  @kentangmaribuan  2021-04-15T13:18:31.000Z   \n",
       "3     Yuni Cahya          @yuni_ce  2021-04-14T13:30:18.000Z   \n",
       "4           FESS        @FOODFESS2  2021-04-13T17:41:16.000Z   \n",
       "\n",
       "                                                Text  \\\n",
       "0                   Karma is not real, but kurma is.   \n",
       "1                     Replying to \\n@kentangmaribuan   \n",
       "2  5 jt\\n5. Nanti habis solat akan ada pembagian ...   \n",
       "3               kurma keijuu ini....gak ada lawan...   \n",
       "4  fess kalian sahur ada yg ga pake nasi? biasany...   \n",
       "\n",
       "                                       Embedded_text Emojis Comments Likes  \\\n",
       "0                                                NaN    NaN      NaN   NaN   \n",
       "1  Yg sbenernya gw gedeg dan bikin badmod. Di ant...    NaN        1   NaN   \n",
       "2                                                NaN    NaN        1   NaN   \n",
       "3                                                NaN    NaN      NaN   NaN   \n",
       "4                                                NaN    NaN       28     1   \n",
       "\n",
       "  Retweets                                         Image link  \\\n",
       "0        1                                                 []   \n",
       "1      NaN                                                 []   \n",
       "2      NaN                                                 []   \n",
       "3      NaN  ['https://pbs.twimg.com/media/Ey8BkYMUUAAUZjl?...   \n",
       "4        1                                                 []   \n",
       "\n",
       "                                           Tweet URL keyword  \n",
       "0  https://twitter.com/gloomybloomy_/status/13831...   kurma  \n",
       "1  https://twitter.com/kentangmaribuan/status/138...   kurma  \n",
       "2  https://twitter.com/kentangmaribuan/status/138...   kurma  \n",
       "3  https://twitter.com/yuni_ce/status/13823253436...   kurma  \n",
       "4  https://twitter.com/FOODFESS2/status/138202611...   kurma  "
      ]
     },
     "execution_count": 5,
     "metadata": {},
     "output_type": "execute_result"
    }
   ],
   "source": [
    "df_data.head()"
   ]
  },
  {
   "cell_type": "code",
   "execution_count": 7,
   "metadata": {
    "colab": {},
    "colab_type": "code",
    "id": "qvqfgPYHqHFB"
   },
   "outputs": [],
   "source": [
    "df_data = df_data.dropna(subset=['Text'])"
   ]
  },
  {
   "cell_type": "markdown",
   "metadata": {
    "colab_type": "text",
    "id": "37e8m5huzEQn"
   },
   "source": [
    "## Exploratory data analysis"
   ]
  },
  {
   "cell_type": "markdown",
   "metadata": {
    "colab_type": "text",
    "id": "ot3tLTZQzHSi"
   },
   "source": [
    "### Class (Complaint Type) Distribution"
   ]
  },
  {
   "cell_type": "code",
   "execution_count": 8,
   "metadata": {
    "colab": {
     "base_uri": "https://localhost:8080/",
     "height": 115
    },
    "colab_type": "code",
    "executionInfo": {
     "elapsed": 3793,
     "status": "ok",
     "timestamp": 1583998355865,
     "user": {
      "displayName": "Fahmi Salman Nurfikri",
      "photoUrl": "https://lh3.googleusercontent.com/a-/AOh14Ggy-0u3qgQL7STI6OTuEftXs0gMenJ6_LpzQJSxcw=s64",
      "userId": "00245196995893858079"
     },
     "user_tz": -420
    },
    "id": "oACYquZxzN5B",
    "outputId": "776325bc-2e78-4378-fcf3-5a423be6f31a"
   },
   "outputs": [
    {
     "data": {
      "text/plain": [
       "gorengan          61\n",
       "kurma             35\n",
       "es buah           28\n",
       "kolak             24\n",
       "es campur         24\n",
       "es dawet           9\n",
       "es kelapa muda     8\n",
       "es cincau          3\n",
       "sop buah           1\n",
       "Name: keyword, dtype: int64"
      ]
     },
     "execution_count": 8,
     "metadata": {},
     "output_type": "execute_result"
    }
   ],
   "source": [
    "df_data['keyword'].value_counts()"
   ]
  },
  {
   "cell_type": "code",
   "execution_count": 9,
   "metadata": {
    "colab": {
     "base_uri": "https://localhost:8080/",
     "height": 263
    },
    "colab_type": "code",
    "executionInfo": {
     "elapsed": 3766,
     "status": "ok",
     "timestamp": 1583998355866,
     "user": {
      "displayName": "Fahmi Salman Nurfikri",
      "photoUrl": "https://lh3.googleusercontent.com/a-/AOh14Ggy-0u3qgQL7STI6OTuEftXs0gMenJ6_LpzQJSxcw=s64",
      "userId": "00245196995893858079"
     },
     "user_tz": -420
    },
    "id": "I3DU_4OlzQMt",
    "outputId": "e89b5df4-5c16-4fac-8f99-4911eb4ffbd5"
   },
   "outputs": [
    {
     "data": {
      "text/plain": [
       "<AxesSubplot:ylabel='keyword'>"
      ]
     },
     "execution_count": 9,
     "metadata": {},
     "output_type": "execute_result"
    },
    {
     "data": {
      "image/png": "[encoded data removed]",
      "text/plain": [
       "<Figure size 432x288 with 1 Axes>"
      ]
     },
     "metadata": {},
     "output_type": "display_data"
    }
   ],
   "source": [
    "df_data['keyword'].value_counts().plot(kind='pie')"
   ]
  },
  {
   "cell_type": "markdown",
   "metadata": {
    "colab_type": "text",
    "id": "LAyD4tevzWDl"
   },
   "source": [
    "### Class Distribution Based on Percentage"
   ]
  },
  {
   "cell_type": "code",
   "execution_count": 10,
   "metadata": {
    "colab": {},
    "colab_type": "code",
    "id": "RoJxzx8uzWgH"
   },
   "outputs": [],
   "source": [
    "df_percent = ((df_data['keyword'].value_counts() / df_data['keyword'].value_counts().sum())*100)"
   ]
  },
  {
   "cell_type": "code",
   "execution_count": 11,
   "metadata": {
    "colab": {
     "base_uri": "https://localhost:8080/",
     "height": 115
    },
    "colab_type": "code",
    "executionInfo": {
     "elapsed": 3735,
     "status": "ok",
     "timestamp": 1583998355868,
     "user": {
      "displayName": "Fahmi Salman Nurfikri",
      "photoUrl": "https://lh3.googleusercontent.com/a-/AOh14Ggy-0u3qgQL7STI6OTuEftXs0gMenJ6_LpzQJSxcw=s64",
      "userId": "00245196995893858079"
     },
     "user_tz": -420
    },
    "id": "E8ceVV4OzZKt",
    "outputId": "ec0b8e17-03b7-4c4d-a32c-a5cdcb631660"
   },
   "outputs": [
    {
     "data": {
      "text/plain": [
       "gorengan          31.606218\n",
       "kurma             18.134715\n",
       "es buah           14.507772\n",
       "kolak             12.435233\n",
       "es campur         12.435233\n",
       "es dawet           4.663212\n",
       "es kelapa muda     4.145078\n",
       "es cincau          1.554404\n",
       "sop buah           0.518135\n",
       "Name: keyword, dtype: float64"
      ]
     },
     "execution_count": 11,
     "metadata": {},
     "output_type": "execute_result"
    }
   ],
   "source": [
    "df_percent"
   ]
  },
  {
   "cell_type": "code",
   "execution_count": 12,
   "metadata": {
    "colab": {
     "base_uri": "https://localhost:8080/",
     "height": 348
    },
    "colab_type": "code",
    "executionInfo": {
     "elapsed": 4308,
     "status": "ok",
     "timestamp": 1583998356470,
     "user": {
      "displayName": "Fahmi Salman Nurfikri",
      "photoUrl": "https://lh3.googleusercontent.com/a-/AOh14Ggy-0u3qgQL7STI6OTuEftXs0gMenJ6_LpzQJSxcw=s64",
      "userId": "00245196995893858079"
     },
     "user_tz": -420
    },
    "id": "PzkLP3N0zZ-s",
    "outputId": "391fcf25-3af4-4c78-e6af-5bb11c87cd2c"
   },
   "outputs": [
    {
     "data": {
      "text/plain": [
       "<AxesSubplot:>"
      ]
     },
     "execution_count": 12,
     "metadata": {},
     "output_type": "execute_result"
    },
    {
     "data": {
      "image/png": "[encoded data removed]",
      "text/plain": [
       "<Figure size 432x288 with 1 Axes>"
      ]
     },
     "metadata": {
      "needs_background": "light"
     },
     "output_type": "display_data"
    }
   ],
   "source": [
    "df_percent.plot(kind='bar')"
   ]
  },
  {
   "cell_type": "markdown",
   "metadata": {
    "colab_type": "text",
    "id": "02jtJkMszmBx"
   },
   "source": [
    "### Word Distribution"
   ]
  },
  {
   "cell_type": "code",
   "execution_count": 17,
   "metadata": {
    "colab": {
     "base_uri": "https://localhost:8080/",
     "height": 115
    },
    "colab_type": "code",
    "executionInfo": {
     "elapsed": 7735,
     "status": "ok",
     "timestamp": 1583998359978,
     "user": {
      "displayName": "Fahmi Salman Nurfikri",
      "photoUrl": "https://lh3.googleusercontent.com/a-/AOh14Ggy-0u3qgQL7STI6OTuEftXs0gMenJ6_LpzQJSxcw=s64",
      "userId": "00245196995893858079"
     },
     "user_tz": -420
    },
    "id": "Y-LJZH0RzmeD",
    "outputId": "7df92edd-ded1-4c38-a4cb-51bf5d9c6777"
   },
   "outputs": [
    {
     "data": {
      "text/plain": [
       "0                     Karma is not real, but kurma is.\n",
       "1                       Replying to \\n@kentangmaribuan\n",
       "2    5 jt\\n5. Nanti habis solat akan ada pembagian ...\n",
       "3                 kurma keijuu ini....gak ada lawan...\n",
       "4    fess kalian sahur ada yg ga pake nasi? biasany...\n",
       "Name: Text, dtype: object"
      ]
     },
     "execution_count": 17,
     "metadata": {},
     "output_type": "execute_result"
    }
   ],
   "source": [
    "df_data['Text'].head()"
   ]
  },
  {
   "cell_type": "code",
   "execution_count": 18,
   "metadata": {
    "colab": {
     "base_uri": "https://localhost:8080/",
     "height": 115
    },
    "colab_type": "code",
    "executionInfo": {
     "elapsed": 7704,
     "status": "ok",
     "timestamp": 1583998359979,
     "user": {
      "displayName": "Fahmi Salman Nurfikri",
      "photoUrl": "https://lh3.googleusercontent.com/a-/AOh14Ggy-0u3qgQL7STI6OTuEftXs0gMenJ6_LpzQJSxcw=s64",
      "userId": "00245196995893858079"
     },
     "user_tz": -420
    },
    "id": "EWbCz4ezzprB",
    "outputId": "d5fefa74-50e4-463c-dbfd-66c219a167c0"
   },
   "outputs": [
    {
     "data": {
      "text/plain": [
       "0             [Karma, is, not, real,, but, kurma, is.]\n",
       "1                     [Replying, to, @kentangmaribuan]\n",
       "2    [5, jt, 5., Nanti, habis, solat, akan, ada, pe...\n",
       "3           [kurma, keijuu, ini....gak, ada, lawan...]\n",
       "4    [fess, kalian, sahur, ada, yg, ga, pake, nasi?...\n",
       "Name: Text, dtype: object"
      ]
     },
     "execution_count": 18,
     "metadata": {},
     "output_type": "execute_result"
    }
   ],
   "source": [
    "df_data['Text'].str.split().head()"
   ]
  },
  {
   "cell_type": "code",
   "execution_count": 19,
   "metadata": {
    "colab": {},
    "colab_type": "code",
    "id": "L_a8MA_PzsTC"
   },
   "outputs": [],
   "source": [
    "df_text_explode = df_data['Text'].str.split().explode()"
   ]
  },
  {
   "cell_type": "code",
   "execution_count": 20,
   "metadata": {
    "colab": {
     "base_uri": "https://localhost:8080/",
     "height": 115
    },
    "colab_type": "code",
    "executionInfo": {
     "elapsed": 7644,
     "status": "ok",
     "timestamp": 1583998359982,
     "user": {
      "displayName": "Fahmi Salman Nurfikri",
      "photoUrl": "https://lh3.googleusercontent.com/a-/AOh14Ggy-0u3qgQL7STI6OTuEftXs0gMenJ6_LpzQJSxcw=s64",
      "userId": "00245196995893858079"
     },
     "user_tz": -420
    },
    "id": "IAIT_VXnzx00",
    "outputId": "2122d49b-db2b-43c5-fe68-b1efef55046d"
   },
   "outputs": [
    {
     "data": {
      "text/plain": [
       "0    Karma\n",
       "0       is\n",
       "0      not\n",
       "0    real,\n",
       "0      but\n",
       "Name: Text, dtype: object"
      ]
     },
     "execution_count": 20,
     "metadata": {},
     "output_type": "execute_result"
    }
   ],
   "source": [
    "df_text_explode.head()"
   ]
  },
  {
   "cell_type": "code",
   "execution_count": 21,
   "metadata": {
    "colab": {
     "base_uri": "https://localhost:8080/",
     "height": 115
    },
    "colab_type": "code",
    "executionInfo": {
     "elapsed": 7601,
     "status": "ok",
     "timestamp": 1583998359983,
     "user": {
      "displayName": "Fahmi Salman Nurfikri",
      "photoUrl": "https://lh3.googleusercontent.com/a-/AOh14Ggy-0u3qgQL7STI6OTuEftXs0gMenJ6_LpzQJSxcw=s64",
      "userId": "00245196995893858079"
     },
     "user_tz": -420
    },
    "id": "XXpi_hvGzzMI",
    "outputId": "dc2c0a66-2b41-402e-ee5d-2d2e517b4114"
   },
   "outputs": [
    {
     "data": {
      "text/plain": [
       "192     nitip\n",
       "192        es\n",
       "192    kelapa\n",
       "192      muda\n",
       "192        sa\n",
       "Name: Text, dtype: object"
      ]
     },
     "execution_count": 21,
     "metadata": {},
     "output_type": "execute_result"
    }
   ],
   "source": [
    "df_text_explode.tail()"
   ]
  },
  {
   "cell_type": "code",
   "execution_count": 22,
   "metadata": {
    "colab": {
     "base_uri": "https://localhost:8080/",
     "height": 868
    },
    "colab_type": "code",
    "executionInfo": {
     "elapsed": 44573,
     "status": "ok",
     "timestamp": 1583998396995,
     "user": {
      "displayName": "Fahmi Salman Nurfikri",
      "photoUrl": "https://lh3.googleusercontent.com/a-/AOh14Ggy-0u3qgQL7STI6OTuEftXs0gMenJ6_LpzQJSxcw=s64",
      "userId": "00245196995893858079"
     },
     "user_tz": -420
    },
    "id": "SExqFh3Cz0wO",
    "outputId": "4f13e57f-fdb3-468f-e0cc-b33ec88c320d"
   },
   "outputs": [
    {
     "data": {
      "text/plain": [
       "<AxesSubplot:>"
      ]
     },
     "execution_count": 22,
     "metadata": {},
     "output_type": "execute_result"
    },
    {
     "data": {
      "image/png": "[encoded data removed]",
      "text/plain": [
       "<Figure size 432x288 with 1 Axes>"
      ]
     },
     "metadata": {
      "needs_background": "light"
     },
     "output_type": "display_data"
    }
   ],
   "source": [
    "df_text_explode.value_counts().plot(kind='bar')"
   ]
  },
  {
   "cell_type": "markdown",
   "metadata": {
    "colab_type": "text",
    "id": "TAH-wvKsBfPo"
   },
   "source": []
  },
  {
   "cell_type": "markdown",
   "metadata": {
    "colab_type": "text",
    "id": "AJmP7Ohgz79K"
   },
   "source": [
    "### Word Distribution with WordCloud"
   ]
  },
  {
   "cell_type": "code",
   "execution_count": 23,
   "metadata": {
    "colab": {},
    "colab_type": "code",
    "id": "QA9C1QiBz8dl"
   },
   "outputs": [],
   "source": [
    "text = ' '.join(df_data['Text'])"
   ]
  },
  {
   "cell_type": "code",
   "execution_count": 24,
   "metadata": {
    "colab": {
     "base_uri": "https://localhost:8080/",
     "height": 52
    },
    "colab_type": "code",
    "executionInfo": {
     "elapsed": 44538,
     "status": "ok",
     "timestamp": 1583998396998,
     "user": {
      "displayName": "Fahmi Salman Nurfikri",
      "photoUrl": "https://lh3.googleusercontent.com/a-/AOh14Ggy-0u3qgQL7STI6OTuEftXs0gMenJ6_LpzQJSxcw=s64",
      "userId": "00245196995893858079"
     },
     "user_tz": -420
    },
    "id": "laVauMDUz-HE",
    "outputId": "f4ce3df6-8aa3-46f4-8918-c0e02b42cf7c"
   },
   "outputs": [
    {
     "data": {
      "text/plain": [
       "'Karma is not real, but kurma is. Replying to \\n@kentangmaribuan 5 jt\\n5. Nanti habis solat akan ada pembagian takjil/kurma untuk jamaah, sodaqoh dari si A\\n\"Untuk itu mari kita hadiahi surat alfatihah semoga rizqi mereka lancar\". kurma keijuu ini....gak ada lawan... fess kalian sahur ada yg ga pake nasi? biasanya apa kalo ngga pake nasi? Bisa pake oats, roti gandum, sourdough atau kurma sih kalo mau kenyang yg awet Ku bangunin suami, mnta beliin gas, yg mana itu sudah jam 3, sambil nunggu tuntasin potong sayur, minum susu kurma, dan uda stegah 4 suami blm balik, uda feeling, gda tukang gas yang buka hahahahha, \\nakhirnya dateng dan bener gda, gda yg jual lauk jg, oke, ada sisa ayam aku makan Kurma memang best deals untuk bulan puasa. Cepet dan enakkkk Gue mau ngingetin temen2 lagi yaa utk JANGAN MINUM TEH PAS SAHUR krn efek diuretiknya bikin sering pipis yg berisiko dehidrasi. Mending air anget atau susu. Kalau gue sih prefer susu, kayak Bear Brand. Apalagi musim flu begini. Cocok banget diminum #1KalengSaatSahur. Kalian gmn? Tim kalo males makan nasi pas  saur cukup bearbrand madu kurma air putih Replying to \\n@yusufabdnms Energen kurma wkwk Tanyarl dari skala 1-10 seberapa suka kalian sama kurma? 0, gasuka kurma siang teman-teman, semoga masih kuat menjalankan ibadah puasa pastikan kita mengkonsumsi makanan sehat dengan gizi seimbang supaya keluarga sehat dan anak-anak pun kuat  tiap hari aku usahain makan kurma mbak, favoritku banget Keluargaku mau ngebiasain kalo buka pertama kali maem kurma. Tapi masih ae pertama kali abis minum terus megang gorengan, kurmane dianggurin Replying to \\n@yusufabdnms Kurma sayang Replying to \\n@yusufabdnms Lur ,Apakah ini yang di namakan kecewa? bukan itu KURMA KURMA TUNIS SAPPHIRE\\nUKURAN 1/2 KG 50 #kurmasapphire Replying to \\n@TeddyGusnaidi Situ abu kurma yg sono abi gosok Replying to \\n@FOODFESS2 Replying to \\n@geraianakbunda Replying to \\n@ellyn_31 3 buah kurma dihaluskan + potongan pisang + air hangat, enak bnget KURMA TUNIS SAPPHIRE\\nUKURAN 1/2 KG 50 #kurmasapphire Replying to \\n@FWBESS Replying to \\n@ayanashb0306\\n and \\n@pegipegi Replying to \\n@mochammadmaola\\n and \\n@uinwsfess klo mrtabaknya rasa kurma, apkh mnambah kesunnahan pak? Makan sahur atau berbuka menu kurma itu sunah namun pake NASI wajib untuk menjaga kesehatan ketahanan tubuh... Hiya2 es buah dan kawan2nya sudah bertebaran, selamat berbuka wilayah timur  Replying to \\n@khoirunicaca_ Permisi es buah mas mbak 5rban Pemcarian es buah termurah.\\nEs Naga Rp. 3.000 Replying to \\n@Laporankegiatan \"ma ntr bukaannya pake es pisang ijo ya, aku yang buat\"\\n\\nMthr \"aneh² udah es buah aja\"\\n\\nYakali 30 hari puasa es buah teros fess kasih inspirasi menu buka puasa yang sehat+enak dong guys\\n thank you!  Nasi, sayur bayam, ayam goreng, tahu goreng, buah pisang Kesellll lahhh kon mikir kabeh edan po,aku dewe seng mikir sopo yowes tak ewangi mikir karo mangan es buah Lebih seger dari es buah Manusia yg kalo nyari es buah setelah buka dan sholat (: Replying to \\n@scoldsmepls Ini di aku ada es buah mz Replying to \\n@FOOD_FESS Replying to \\n@scoldsmepls Dahal es buah Hawane kudu ne ngombe esbuah sak kebon e Kok bisa ya orang-orang buka puasa langsung makan? Sedangkan aku, minum teh anget gelas kecil sama beberapa gorengan aja dah kenyang, ditambah es buah dah kenyang banget Busui ga puasa kan, habis dari sriwijaya aku mampir beli es buah langganan aku yg alpukate banyak.\\nSampe rumah aku minum, eh ibuk bilang \"sisain dikit buat ibuk buka\" wkwk ternyata ibuk pengen jugaa  Tadi yang diem” beliin es buah siapa si Sudahi puasamu mari luru es buah karo sego pecel bersamaku Masih belum bisa lepas dari bayang-bayang pandemi. Biasanya tiap ramadan gini, anak-anak dah oyak2 ngajak bukber bareng. Masak di kelas dan bikin es buah bareng. Sambil muhasabah, pengakuan dosa selama di kegiatan OSIS dan Pramuka. Ternyata bahagiaku cuma sederhana. Nak golekmu sing sugih, gagah, gede dhuwur, aku mundur.\\nTapi nak golekmu es buah aku titip siji. Ngabuburit sambil minus es buah. Es buah melambai lambai Tak kasih potoku siapa tau kangen  jadi pengen es buah Replying to \\n@txtdrstoryWA\\n and \\n@cahmageran Buka puasa boleh pake gorengan , tapi kalo sahurr.. tetep pake gorengan sisa tadi Kalau malam ga bisa makan gorengan\\nContohnya kentang goreng\\nPadahal kan enak Replying to \\n@rahmadansid\\n and \\n@TradingDiary2 Replying to \\n@Yunik41643707\\n and \\n@subindiahneelam Nyoook mb kita ksana bareng biar isa dpt gorengan lbh murah \\n, Gatau lagi,\\nWalaupun cuman gorengan, tapi kalau buka bareng sama keluarga tuh rasanya tetap kaya gorengan. 1000 tahun ...? Keburu bulukan 1000 dpt gorengan 1biji mb nit \\n, Nek pas awan2 mbayangkene mie ayam. Bareng wes buko, gorengan 2 mbi teh anget wes wareg... hiburane wong poso Budidi: “pokoknya selama ramadan no bikin gorengan ya, cari ide cemilan yang lain yang no goreng goreng”\\n.\\nAlso Budidi, untuk buka puasa hari pertama: bikin pisang goreng.\\n\\nPisang goreng.\\nTengkyu. Ws kelebon es cincau, gorengan trs ngerokok.\\nMeripatku langsung padang.  Sate kerbau \\nTumben\\nMgkn krn pakai bumbunya\\nAtau efek tadi sore sotoy makan gorengan pdhl tau kalau emg lg ga makan gorengan\\n\\nHuhu sedih Gimana cara mutusin toxic relationshipku sama gorengan Harusnya bisalah habis puasa bb turun drastis, apalagi bulan ramadhan ini jarang bgt hampir ga pernah jajan cemilan, gorengan, es rasa2 sama jarang banget makan sahur  Replying to \\n@BPrima777\\n @NidNad08\\n  and 18 others Follow \\n@itsZuhaZu\\n for 1K\\n\\nHelp my lovely bro n sis \\n@AbidinBoryta\\n@BPrima777\\n@tnmuda\\n@F_TheDoctor\\n@abbynfam123\\n@lejef\\n@gorengan_27\\n@Even1508\\n@extra_nkri\\n@DavinPu11570306\\n@WaraslahNKRI\\n@CadProSoerya\\n@gantiindong\\n@LKman007\\n@BinsarNixon_\\n@Nadjib_178\\n@Lundayee\\n@wenda_N99 Done \\n @itsZuhaZu\\n  Replying to \\n@txtracunbelanja Replying to \\n@kdrama_menfess Tetep main core walaupun gabisa gendong tim :) Berdasar pada ketidakjelasan ya akan tidakjelas seterusnya Replying to \\n@mbahsat \\'Cinta tumbuh dalam beda agama?\\' \\nMungkin sah\" Saja asal saling menghargai satu sama lain, dan pastinya harus tau konsekuensi di akhir cerita, apakah akan indah dikala salah satu mengalah, atau tetap berpegang teguh keyakinan masing\" Namun akan menjadi asing. Replying to \\n@nisanessa\\n and \\n@chocolavabr knp tiap mo buka puasa yg dicari gorengan si Cari takjil yang bukan gorengan Keluargaku mau ngebiasain kalo buka pertama kali maem kurma. Tapi masih ae pertama kali abis minum terus megang gorengan, kurmane dianggurin Apa yang mengganggu pikiranmu sekarang? duit bang cepet banget abisnya heran  Replying to \\n@infodrakor_id Replying to \\n@ervando_19 Es teh manis + gorengan 2 ama cabe + sebat, asli kenyangnya simple banget. Wkwkwk, apaan mung mangan gorengan 2 biasane wes Replying to \\n@bibabdul98\\n and \\n@faqih14hidayat Bajingan kok loyo, kyk gorengan kemaren sore •kdm• \\npreview vincenzo ep 19 udah keluar nih si babo napa jadi ganteng banget dah tolong  kalau gorengan bakso? ehee  Replying to \\n@Abidin_Boryta02\\n @Da__Eli\\n  and 17 others Replying to \\n@sebuahkeset •kdm•\\nGuys yaampun aku takut bgt \\n pacarku deket-deket sama Ba Reum \\n ini gmn dong takut digeprek  PACAR SAYA KENAPA DI POST WEY !!!  methylprednisolon sek ben iso ngombe es dan makan gorengan ehehehe Replying to \\n@timelinejowo mbi gorengan ya lur Selamat berbuka\\nBuka pake apa? Pake gorengan sama es sirup. \\nBelum makan nasi, masih kenyang  alhamdulilah iseh iso mangan gorengan tapi ga wani ngombe es ehehehehe Ada yg lagi on going nonton Mouse dan Beyond Evil barengan?\\n\\nKalian jadi \\'gila\\' ga? \\n•kdm• pusing tapi oleng juga sama Ba Reum Fess suami bucin mie ayam, aku bikinlah buat sahur gini. Dia komplen disuapan pertama katanya mienya kegedean, emang iya ya? Jdnya gk dia abisin  la rak jerawaten dok nek mangan gorengan ? #THRdariIPOT hari pertama.\\n\\nGiveaway top up RDN @ Rp100.000 untuk 2 orang.\\n\\nCukup reply di bawah, kalau kamu tiba-tiba dapat Rp100.000 dari IPOT, mau dipakai buat apa? Pakai hashtag #THRdariIPOT & #SemuaBisaInvestasi ya. Buat beli gorengan, canda gorengan #THRdariIPOT #SemuaBisaInvestasi MENANGKAN REDMI NOTE 9\\nCaranya:\\n\\n1. Follow \\n@tokopedia\\n dan Instagram \\n@tokopedia\\n play\\n2. RETWEET dan LIKE TWEET INI\\n3. Reply “TOKOPEDIA PLAY” dengan hashtag #BTSDiTokopediaPlay #Cuma20Ribu\\n\\nSEBANYAK-BANYAKNYAAAAA\\nPemenang dipilih secara acak diumumkan 30 Mei 2021 BISMILLAH INSYAALLAH MENANG\\nTOKOPEDIA PLAY\\n#BTSDiTokopediaPlay #Cuma20Ribu Menangkan SAMSUNG A80\\nCara ikutannya  \\n1. FOLLOW TWITTER \\n@tokopedia\\n  \\n2. RT dan LIKE tweet ini  \\n3. Reply “Selalu Ada Selalu Bisa” dan gunakan hashtag #WIBSpesialRamadan #TerimakasihMinto #AmankanRemoteTV Bismillah...\\nSelalu Ada Selalu Bisa\\n#WIBSpesialRamadan #TerimakasihMinto #AmankanRemoteTV Replying to \\n@tokopedia Replying to \\n@tokopedia Replying to \\n@greentteaaa Selamat pagi.... hari ini Jumat ya... yuuuk ah aku ada 50rb buat dua orang buat beli kolak ato es buah di gerobak mamang sebelah. \\n\\nGopay aja ya... cuma jawab mau... kalo nggak mau juga nggak apa.. aku jajan sendiri aja \\nEnd jam 15.00 biar sempet beli nya Mauuuuuuuu makek kebangetan mom \\n,\\nJadi pengen sahur 1xn berbuka puasa skg ngliat kolak pisang + es campur ny mommy \\n, Replying to \\n@amippr Nyoooook merapat nyooook kolak pisang n es campurny dah menanti \\n, Setelah kemarin bermain dengan sirup, hari ini mainannya santan.\\nGapapa ya \\n\\nKolak Pisang Waluh Kolang-Kaling\\n\\nyuk mulai pesen di \\n@nasgortiarbah\\n Semarang\\nhttp://bit.ly/Gosemego\\n\\nbuka puasa ga ribet, masih dapet takjil kolak Replying to \\n@joestz_ Iyaa Kolak mas Sijali, wkwk maksudnya gmna wkwk  Replying to \\n@joestz_ Kolak punya kamu itu apa mas Bakul  Ketagihan bikin kolak sendiri  Saatnya sahur bersama Avoskin! \\nCoba lanjutkan pantun di bawah ini dengan reply tweet ini ya Sahabat Avo, jangan lupa sertakan #GlowinRamadhan . \\nSeperti biasa, akan ada 1 orang beruntung yang mendapatkan special gift dari Avoskin.  Buka puasa di rumah saja\\nBukanya pakai kolak\\nAvoskin terbaik sepanjang masa\\nItu fakta nyata, gak bisa dielak\\n\\n (*^^*)\\n#GlowInRamadhan mashaallah akhi kyrie takjil teng amerika dhahar nopo? enten kolak mboten? Replying to \\n@DonnieAulia Kalo kolak langsung minta sama Mbak Tarminah, tp tlg diicipi sedikit, takute keliru jangan lodeh. Replying to \\n@FOOD_FESS Replying to \\n@xslfnx tak gawe kolak lalu tak buang begitu saja Replying to \\n@missfajriah99 Replying to \\n@ChusnulCh__\\n @airlangga_hrt\\n  and 4 others Enak buat Kolak Pasti enak banget tuh kalau buka itu, kira-kira apa ya?\\n\\nLangsung RT dan reply jawaban kamu, sertakan hashtag #BerkahBerbuka #SilaturahmiTanpaHenti\\n dan jangan lupa mention 3 temen kamu ya. Syarat dan ketentuan klik https://bit.ly/BerkahBerbuka2021… A. Kolak Pisang \\n@nda_ra88\\n @rosaclaudia_r\\n @HakimGhendut\\n #BerkahBerbuka #SilaturahmiTanpaHenti Replying to \\n@_amiimoodz Selamat pagi.... hari ini Jumat ya... yuuuk ah aku ada 50rb buat dua orang buat beli kolak ato es buah di gerobak mamang sebelah. \\n\\nGopay aja ya... cuma jawab mau... kalo nggak mau juga nggak apa.. aku jajan sendiri aja \\nEnd jam 15.00 biar sempet beli nya Mauuuuuuuu makek kebangetan mom \\n,\\nJadi pengen sahur 1xn berbuka puasa skg ngliat kolak pisang + es campur ny mommy \\n, Aduh pengen es campur pakek susu  Replying to \\n@dwiebob1\\n and \\n@riothrq Es anggur dong jadinya bukan es campur Hayo pilih mana diaduk atau nggak Aduduhh... Kalo es campur enakan diaduk  Biarin dia kelar sama urusane dulu\\nGabole ikut campur\\nKamu bukan es campur\\nEhehehe yaallah aku beli es campur sampe beli 2 saking hausnya siang gini liat teh botol kaya teh botol Sosro lebih enak es campur yaallah buka masi lama Es campur es kolak menanti pengen spaghetti, pengen durian, pengen es campur, pengen eskrim, pengen rendang. pengen pengen pengen. wes kesel, ditambahi mangkel, wallahi nganti raiso nahan misuh aku, cocote lho menyimpulkan sendiri senengane, ki udu masalah syukur ra syukur su, loro mental yo mental, aku dikon ngalah terus yo remuk lah bajingan, tau reti rak berita wong mati mergo mangan ati? asu asu Mik es campur ben adem pikirane 33°C jajanan buka puasa nanti sore paling laku minuman dingin seperti es campur dan es kelapa Sore Sobat Shopee, udah pada tau belum nih mau buka pakai apa hari ini?  Buka ma gorengan n es campur  info es campur seng seger lurrr Ml! No salty, menurut kalian dpt sebuah komponen tim (supp, tank, core, side, offlaner)  dr masing2 role siapa yg harus paling kuat mental? core = rebutan turtel / lord gadapaet ( retri indomaret spbu  es campur alfamart tambal ban dll ) panas bgt yaAllah es campur enak kali ye Replying to \\n@ridoyando2011\\n and \\n@arifsetia2013d Cendol bang, bahasa jawanya dawet. Es cendol / es dawet. Paling terkenal es dawet ayu dari banjarnegara. Isinya cendol, pulut tape, alpukat/alvokado, durian dengan kuah santan, gula cair yg dimasak dengan nangka dan serutan ais batu. Replying to \\n@dipraal_ Height : 173 cm\\nAge : 25 tahun\\nShoes size : 43\\nZodiac : sagitarius\\nTattos : -\\nFav drink : es dawet\\nFav food : sate kambing\\nFav animal : kupu-kupu Saran takjil apa yg enak Es dawet tape ketan Replying to \\n@gudetasya es dawet seger ketoe Replying to \\n@_p_ady Ws kelebon es cincau, gorengan trs ngerokok.\\nMeripatku langsung padang.  Dulu kalau waktu berbuka, arwah emak paling favorit menyediakan menu berbuka :\\n1. Nasi liwet\\n2. Pecel lung brambang asem\\n3. Tempe, tahu dan tempe \\n    gembus bacem\\n4. kerupuk\\n5. Es cincau kolang kaling \\n    dengan sirup ceri merah. Replying to \\n@FOOD_FESS tadi sore nimbang, turun sekilo. barusan abis buka puasa naik lagi setengah kilo \\n padahal cm makan tahu petis sebiji sama es kelapa muda segelas  Replying to \\n@mkhbill es kelapa muda  Replying to \\n@andryyudhap Replying to \\n@pencoret Arsip menu buka puasa 2021\\n#kangenmasakanIbu\\n\\nHari kesebelas\\nNasi\\nBakso Pak Dalimin\\nTahu Bacem\\nEs Kelapa Muda\\n*sponsor kantor Daah, ak otw ngabuburit dlu yaa nitip es kelapa muda sa'"
      ]
     },
     "execution_count": 24,
     "metadata": {},
     "output_type": "execute_result"
    }
   ],
   "source": [
    "text"
   ]
  },
  {
   "cell_type": "code",
   "execution_count": 25,
   "metadata": {
    "colab": {},
    "colab_type": "code",
    "id": "VJypPV0Az-sX"
   },
   "outputs": [],
   "source": [
    "wordcloud_tweet = WordCloud(max_font_size=100, max_words=100, background_color=\"white\").generate(text)"
   ]
  },
  {
   "cell_type": "code",
   "execution_count": 26,
   "metadata": {
    "colab": {
     "base_uri": "https://localhost:8080/",
     "height": 32
    },
    "colab_type": "code",
    "executionInfo": {
     "elapsed": 44533,
     "status": "ok",
     "timestamp": 1583998397000,
     "user": {
      "displayName": "Fahmi Salman Nurfikri",
      "photoUrl": "https://lh3.googleusercontent.com/a-/AOh14Ggy-0u3qgQL7STI6OTuEftXs0gMenJ6_LpzQJSxcw=s64",
      "userId": "00245196995893858079"
     },
     "user_tz": -420
    },
    "id": "rBZ8QvWC0D_r",
    "outputId": "f873c2be-26da-45f4-b387-e11def8edd1e"
   },
   "outputs": [
    {
     "data": {
      "text/plain": [
       "<wordcloud.wordcloud.WordCloud at 0x7fb154211350>"
      ]
     },
     "execution_count": 26,
     "metadata": {},
     "output_type": "execute_result"
    }
   ],
   "source": [
    "wordcloud_tweet"
   ]
  },
  {
   "cell_type": "code",
   "execution_count": 27,
   "metadata": {
    "colab": {
     "base_uri": "https://localhost:8080/",
     "height": 196
    },
    "colab_type": "code",
    "executionInfo": {
     "elapsed": 44530,
     "status": "ok",
     "timestamp": 1583998397001,
     "user": {
      "displayName": "Fahmi Salman Nurfikri",
      "photoUrl": "https://lh3.googleusercontent.com/a-/AOh14Ggy-0u3qgQL7STI6OTuEftXs0gMenJ6_LpzQJSxcw=s64",
      "userId": "00245196995893858079"
     },
     "user_tz": -420
    },
    "id": "F00EJ2ij0GWo",
    "outputId": "6abf2649-8f3a-4ebe-98e9-f75b6853b673"
   },
   "outputs": [
    {
     "data": {
      "image/png": "[encoded data removed]",
      "text/plain": [
       "<Figure size 432x288 with 1 Axes>"
      ]
     },
     "metadata": {
      "needs_background": "light"
     },
     "output_type": "display_data"
    }
   ],
   "source": [
    "plt.figure()\n",
    "plt.imshow(wordcloud_tweet, interpolation=\"bilinear\")\n",
    "plt.axis(\"off\")\n",
    "plt.show()"
   ]
  },
  {
   "cell_type": "code",
   "execution_count": null,
   "metadata": {
    "colab": {},
    "colab_type": "code",
    "id": "iT2YpJ_0IDd7"
   },
   "outputs": [],
   "source": []
  }
 ],
 "metadata": {
  "colab": {
   "collapsed_sections": [],
   "name": "3. Simple_EDA.ipynb",
   "provenance": []
  },
  "kernelspec": {
   "display_name": "Python 3",
   "language": "python",
   "name": "python3"
  },
  "language_info": {
   "codemirror_mode": {
    "name": "ipython",
    "version": 3
   },
   "file_extension": ".py",
   "mimetype": "text/x-python",
   "name": "python",
   "nbconvert_exporter": "python",
   "pygments_lexer": "ipython3",
   "version": "3.7.9"
  }
 },
 "nbformat": 4,
 "nbformat_minor": 1
}

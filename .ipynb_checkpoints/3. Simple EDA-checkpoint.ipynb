{
 "cells": [
  {
   "cell_type": "markdown",
   "metadata": {
    "colab_type": "text",
    "id": "2rahy7feBIgV"
   },
   "source": [
    "# Exploratory data analysis"
   ]
  },
  {
   "cell_type": "code",
   "execution_count": 1,
   "metadata": {
    "scrolled": true
   },
   "outputs": [
    {
     "name": "stdout",
     "output_type": "stream",
     "text": [
      "Collecting wordcloud\n",
      "  Using cached wordcloud-1.8.1-cp38-cp38-win_amd64.whl (155 kB)\n",
      "Requirement already satisfied: matplotlib in c:\\users\\dzaky\\anaconda3\\lib\\site-packages (from wordcloud) (3.3.2)\n",
      "Requirement already satisfied: numpy>=1.6.1 in c:\\users\\dzaky\\anaconda3\\lib\\site-packages (from wordcloud) (1.19.2)\n",
      "Requirement already satisfied: pillow in c:\\users\\dzaky\\anaconda3\\lib\\site-packages (from wordcloud) (8.0.1)\n",
      "Requirement already satisfied: cycler>=0.10 in c:\\users\\dzaky\\anaconda3\\lib\\site-packages (from matplotlib->wordcloud) (0.10.0)\n",
      "Requirement already satisfied: kiwisolver>=1.0.1 in c:\\users\\dzaky\\anaconda3\\lib\\site-packages (from matplotlib->wordcloud) (1.3.0)\n",
      "Requirement already satisfied: python-dateutil>=2.1 in c:\\users\\dzaky\\anaconda3\\lib\\site-packages (from matplotlib->wordcloud) (2.8.1)\n",
      "Requirement already satisfied: certifi>=2020.06.20 in c:\\users\\dzaky\\anaconda3\\lib\\site-packages (from matplotlib->wordcloud) (2020.6.20)\n",
      "Requirement already satisfied: pyparsing!=2.0.4,!=2.1.2,!=2.1.6,>=2.0.3 in c:\\users\\dzaky\\anaconda3\\lib\\site-packages (from matplotlib->wordcloud) (2.4.7)\n",
      "Requirement already satisfied: six in c:\\users\\dzaky\\anaconda3\\lib\\site-packages (from cycler>=0.10->matplotlib->wordcloud) (1.15.0)\n",
      "Installing collected packages: wordcloud\n",
      "Successfully installed wordcloud-1.8.1\n"
     ]
    }
   ],
   "source": [
    "!pip install wordcloud"
   ]
  },
  {
   "cell_type": "markdown",
   "metadata": {
    "colab_type": "text",
    "id": "4axyBho7ygw0"
   },
   "source": [
    "## Import dependencies"
   ]
  },
  {
   "cell_type": "code",
   "execution_count": 2,
   "metadata": {
    "colab": {},
    "colab_type": "code",
    "id": "0g0NCxKAyjMp"
   },
   "outputs": [],
   "source": [
    "import pandas as pd\n",
    "import matplotlib.pyplot as plt\n",
    "from wordcloud import WordCloud"
   ]
  },
  {
   "cell_type": "markdown",
   "metadata": {
    "colab_type": "text",
    "id": "1xqeGYqnysai"
   },
   "source": [
    "## Data Preparation"
   ]
  },
  {
   "cell_type": "code",
   "execution_count": 4,
   "metadata": {
    "colab": {},
    "colab_type": "code",
    "id": "B_8Udg9By07J"
   },
   "outputs": [],
   "source": [
    "# Read data csv\n",
    "filename = 'Data/all_keywords.csv'\n",
    "df_data = pd.read_csv(filename)"
   ]
  },
  {
   "cell_type": "code",
   "execution_count": null,
   "metadata": {
    "colab": {
     "base_uri": "https://localhost:8080/",
     "height": 484
    },
    "colab_type": "code",
    "executionInfo": {
     "elapsed": 3832,
     "status": "ok",
     "timestamp": 1583998355863,
     "user": {
      "displayName": "Fahmi Salman Nurfikri",
      "photoUrl": "https://lh3.googleusercontent.com/a-/AOh14Ggy-0u3qgQL7STI6OTuEftXs0gMenJ6_LpzQJSxcw=s64",
      "userId": "00245196995893858079"
     },
     "user_tz": -420
    },
    "id": "3MC6eEegy9sX",
    "outputId": "b39de782-3dc2-4bc8-f72d-698c7444ca3c"
   },
   "outputs": [],
   "source": [
    "df_data.head()"
   ]
  },
  {
   "cell_type": "code",
   "execution_count": null,
   "metadata": {
    "colab": {},
    "colab_type": "code",
    "id": "qvqfgPYHqHFB"
   },
   "outputs": [],
   "source": [
    "df_data = df_data.dropna(subset=['Text'])"
   ]
  },
  {
   "cell_type": "markdown",
   "metadata": {
    "colab_type": "text",
    "id": "37e8m5huzEQn"
   },
   "source": [
    "## Exploratory data analysis"
   ]
  },
  {
   "cell_type": "markdown",
   "metadata": {
    "colab_type": "text",
    "id": "ot3tLTZQzHSi"
   },
   "source": [
    "### Class (Complaint Type) Distribution"
   ]
  },
  {
   "cell_type": "code",
   "execution_count": null,
   "metadata": {
    "colab": {
     "base_uri": "https://localhost:8080/",
     "height": 115
    },
    "colab_type": "code",
    "executionInfo": {
     "elapsed": 3793,
     "status": "ok",
     "timestamp": 1583998355865,
     "user": {
      "displayName": "Fahmi Salman Nurfikri",
      "photoUrl": "https://lh3.googleusercontent.com/a-/AOh14Ggy-0u3qgQL7STI6OTuEftXs0gMenJ6_LpzQJSxcw=s64",
      "userId": "00245196995893858079"
     },
     "user_tz": -420
    },
    "id": "oACYquZxzN5B",
    "outputId": "776325bc-2e78-4378-fcf3-5a423be6f31a"
   },
   "outputs": [],
   "source": [
    "df_data['keyword'].value_counts()"
   ]
  },
  {
   "cell_type": "code",
   "execution_count": null,
   "metadata": {
    "colab": {
     "base_uri": "https://localhost:8080/",
     "height": 263
    },
    "colab_type": "code",
    "executionInfo": {
     "elapsed": 3766,
     "status": "ok",
     "timestamp": 1583998355866,
     "user": {
      "displayName": "Fahmi Salman Nurfikri",
      "photoUrl": "https://lh3.googleusercontent.com/a-/AOh14Ggy-0u3qgQL7STI6OTuEftXs0gMenJ6_LpzQJSxcw=s64",
      "userId": "00245196995893858079"
     },
     "user_tz": -420
    },
    "id": "I3DU_4OlzQMt",
    "outputId": "e89b5df4-5c16-4fac-8f99-4911eb4ffbd5"
   },
   "outputs": [],
   "source": [
    "df_data['keyword'].value_counts().plot(kind='pie')"
   ]
  },
  {
   "cell_type": "markdown",
   "metadata": {
    "colab_type": "text",
    "id": "LAyD4tevzWDl"
   },
   "source": [
    "### Class Distribution Based on Percentage"
   ]
  },
  {
   "cell_type": "code",
   "execution_count": null,
   "metadata": {
    "colab": {},
    "colab_type": "code",
    "id": "RoJxzx8uzWgH"
   },
   "outputs": [],
   "source": [
    "df_percent = ((df_data['keyword'].value_counts() / df_data['keyword'].value_counts().sum())*100)"
   ]
  },
  {
   "cell_type": "code",
   "execution_count": null,
   "metadata": {
    "colab": {
     "base_uri": "https://localhost:8080/",
     "height": 115
    },
    "colab_type": "code",
    "executionInfo": {
     "elapsed": 3735,
     "status": "ok",
     "timestamp": 1583998355868,
     "user": {
      "displayName": "Fahmi Salman Nurfikri",
      "photoUrl": "https://lh3.googleusercontent.com/a-/AOh14Ggy-0u3qgQL7STI6OTuEftXs0gMenJ6_LpzQJSxcw=s64",
      "userId": "00245196995893858079"
     },
     "user_tz": -420
    },
    "id": "E8ceVV4OzZKt",
    "outputId": "ec0b8e17-03b7-4c4d-a32c-a5cdcb631660"
   },
   "outputs": [],
   "source": [
    "df_percent"
   ]
  },
  {
   "cell_type": "code",
   "execution_count": null,
   "metadata": {
    "colab": {
     "base_uri": "https://localhost:8080/",
     "height": 348
    },
    "colab_type": "code",
    "executionInfo": {
     "elapsed": 4308,
     "status": "ok",
     "timestamp": 1583998356470,
     "user": {
      "displayName": "Fahmi Salman Nurfikri",
      "photoUrl": "https://lh3.googleusercontent.com/a-/AOh14Ggy-0u3qgQL7STI6OTuEftXs0gMenJ6_LpzQJSxcw=s64",
      "userId": "00245196995893858079"
     },
     "user_tz": -420
    },
    "id": "PzkLP3N0zZ-s",
    "outputId": "391fcf25-3af4-4c78-e6af-5bb11c87cd2c"
   },
   "outputs": [],
   "source": [
    "df_percent.plot(kind='bar')"
   ]
  },
  {
   "cell_type": "markdown",
   "metadata": {
    "colab_type": "text",
    "id": "02jtJkMszmBx"
   },
   "source": [
    "### Word Distribution"
   ]
  },
  {
   "cell_type": "code",
   "execution_count": null,
   "metadata": {
    "colab": {
     "base_uri": "https://localhost:8080/",
     "height": 115
    },
    "colab_type": "code",
    "executionInfo": {
     "elapsed": 7735,
     "status": "ok",
     "timestamp": 1583998359978,
     "user": {
      "displayName": "Fahmi Salman Nurfikri",
      "photoUrl": "https://lh3.googleusercontent.com/a-/AOh14Ggy-0u3qgQL7STI6OTuEftXs0gMenJ6_LpzQJSxcw=s64",
      "userId": "00245196995893858079"
     },
     "user_tz": -420
    },
    "id": "Y-LJZH0RzmeD",
    "outputId": "7df92edd-ded1-4c38-a4cb-51bf5d9c6777"
   },
   "outputs": [],
   "source": [
    "df_data['Text'].head()"
   ]
  },
  {
   "cell_type": "code",
   "execution_count": null,
   "metadata": {
    "colab": {
     "base_uri": "https://localhost:8080/",
     "height": 115
    },
    "colab_type": "code",
    "executionInfo": {
     "elapsed": 7704,
     "status": "ok",
     "timestamp": 1583998359979,
     "user": {
      "displayName": "Fahmi Salman Nurfikri",
      "photoUrl": "https://lh3.googleusercontent.com/a-/AOh14Ggy-0u3qgQL7STI6OTuEftXs0gMenJ6_LpzQJSxcw=s64",
      "userId": "00245196995893858079"
     },
     "user_tz": -420
    },
    "id": "EWbCz4ezzprB",
    "outputId": "d5fefa74-50e4-463c-dbfd-66c219a167c0"
   },
   "outputs": [],
   "source": [
    "df_data['Text'].str.split().head()"
   ]
  },
  {
   "cell_type": "code",
   "execution_count": null,
   "metadata": {
    "colab": {},
    "colab_type": "code",
    "id": "L_a8MA_PzsTC"
   },
   "outputs": [],
   "source": [
    "df_text_explode = df_data['Text'].str.split().explode()"
   ]
  },
  {
   "cell_type": "code",
   "execution_count": null,
   "metadata": {
    "colab": {
     "base_uri": "https://localhost:8080/",
     "height": 115
    },
    "colab_type": "code",
    "executionInfo": {
     "elapsed": 7644,
     "status": "ok",
     "timestamp": 1583998359982,
     "user": {
      "displayName": "Fahmi Salman Nurfikri",
      "photoUrl": "https://lh3.googleusercontent.com/a-/AOh14Ggy-0u3qgQL7STI6OTuEftXs0gMenJ6_LpzQJSxcw=s64",
      "userId": "00245196995893858079"
     },
     "user_tz": -420
    },
    "id": "IAIT_VXnzx00",
    "outputId": "2122d49b-db2b-43c5-fe68-b1efef55046d"
   },
   "outputs": [],
   "source": [
    "df_text_explode.head()"
   ]
  },
  {
   "cell_type": "code",
   "execution_count": null,
   "metadata": {
    "colab": {
     "base_uri": "https://localhost:8080/",
     "height": 115
    },
    "colab_type": "code",
    "executionInfo": {
     "elapsed": 7601,
     "status": "ok",
     "timestamp": 1583998359983,
     "user": {
      "displayName": "Fahmi Salman Nurfikri",
      "photoUrl": "https://lh3.googleusercontent.com/a-/AOh14Ggy-0u3qgQL7STI6OTuEftXs0gMenJ6_LpzQJSxcw=s64",
      "userId": "00245196995893858079"
     },
     "user_tz": -420
    },
    "id": "XXpi_hvGzzMI",
    "outputId": "dc2c0a66-2b41-402e-ee5d-2d2e517b4114"
   },
   "outputs": [],
   "source": [
    "df_text_explode.tail()"
   ]
  },
  {
   "cell_type": "code",
   "execution_count": null,
   "metadata": {
    "colab": {
     "base_uri": "https://localhost:8080/",
     "height": 868
    },
    "colab_type": "code",
    "executionInfo": {
     "elapsed": 44573,
     "status": "ok",
     "timestamp": 1583998396995,
     "user": {
      "displayName": "Fahmi Salman Nurfikri",
      "photoUrl": "https://lh3.googleusercontent.com/a-/AOh14Ggy-0u3qgQL7STI6OTuEftXs0gMenJ6_LpzQJSxcw=s64",
      "userId": "00245196995893858079"
     },
     "user_tz": -420
    },
    "id": "SExqFh3Cz0wO",
    "outputId": "4f13e57f-fdb3-468f-e0cc-b33ec88c320d"
   },
   "outputs": [],
   "source": [
    "df_text_explode.value_counts().plot(kind='bar')"
   ]
  },
  {
   "cell_type": "markdown",
   "metadata": {
    "colab_type": "text",
    "id": "TAH-wvKsBfPo"
   },
   "source": []
  },
  {
   "cell_type": "markdown",
   "metadata": {
    "colab_type": "text",
    "id": "AJmP7Ohgz79K"
   },
   "source": [
    "### Word Distribution with WordCloud"
   ]
  },
  {
   "cell_type": "code",
   "execution_count": null,
   "metadata": {
    "colab": {},
    "colab_type": "code",
    "id": "QA9C1QiBz8dl"
   },
   "outputs": [],
   "source": [
    "text = ' '.join(df_data['Text'])"
   ]
  },
  {
   "cell_type": "code",
   "execution_count": null,
   "metadata": {
    "colab": {
     "base_uri": "https://localhost:8080/",
     "height": 52
    },
    "colab_type": "code",
    "executionInfo": {
     "elapsed": 44538,
     "status": "ok",
     "timestamp": 1583998396998,
     "user": {
      "displayName": "Fahmi Salman Nurfikri",
      "photoUrl": "https://lh3.googleusercontent.com/a-/AOh14Ggy-0u3qgQL7STI6OTuEftXs0gMenJ6_LpzQJSxcw=s64",
      "userId": "00245196995893858079"
     },
     "user_tz": -420
    },
    "id": "laVauMDUz-HE",
    "outputId": "f4ce3df6-8aa3-46f4-8918-c0e02b42cf7c"
   },
   "outputs": [],
   "source": [
    "text"
   ]
  },
  {
   "cell_type": "code",
   "execution_count": null,
   "metadata": {
    "colab": {},
    "colab_type": "code",
    "id": "VJypPV0Az-sX"
   },
   "outputs": [],
   "source": [
    "wordcloud_tweet = WordCloud(max_font_size=100, max_words=100, background_color=\"white\").generate(text)"
   ]
  },
  {
   "cell_type": "code",
   "execution_count": null,
   "metadata": {
    "colab": {
     "base_uri": "https://localhost:8080/",
     "height": 32
    },
    "colab_type": "code",
    "executionInfo": {
     "elapsed": 44533,
     "status": "ok",
     "timestamp": 1583998397000,
     "user": {
      "displayName": "Fahmi Salman Nurfikri",
      "photoUrl": "https://lh3.googleusercontent.com/a-/AOh14Ggy-0u3qgQL7STI6OTuEftXs0gMenJ6_LpzQJSxcw=s64",
      "userId": "00245196995893858079"
     },
     "user_tz": -420
    },
    "id": "rBZ8QvWC0D_r",
    "outputId": "f873c2be-26da-45f4-b387-e11def8edd1e"
   },
   "outputs": [],
   "source": [
    "wordcloud_tweet"
   ]
  },
  {
   "cell_type": "code",
   "execution_count": null,
   "metadata": {
    "colab": {
     "base_uri": "https://localhost:8080/",
     "height": 196
    },
    "colab_type": "code",
    "executionInfo": {
     "elapsed": 44530,
     "status": "ok",
     "timestamp": 1583998397001,
     "user": {
      "displayName": "Fahmi Salman Nurfikri",
      "photoUrl": "https://lh3.googleusercontent.com/a-/AOh14Ggy-0u3qgQL7STI6OTuEftXs0gMenJ6_LpzQJSxcw=s64",
      "userId": "00245196995893858079"
     },
     "user_tz": -420
    },
    "id": "F00EJ2ij0GWo",
    "outputId": "6abf2649-8f3a-4ebe-98e9-f75b6853b673"
   },
   "outputs": [],
   "source": [
    "plt.figure()\n",
    "plt.imshow(wordcloud_tweet, interpolation=\"bilinear\")\n",
    "plt.axis(\"off\")\n",
    "plt.show()"
   ]
  },
  {
   "cell_type": "code",
   "execution_count": null,
   "metadata": {
    "colab": {},
    "colab_type": "code",
    "id": "iT2YpJ_0IDd7"
   },
   "outputs": [],
   "source": []
  }
 ],
 "metadata": {
  "colab": {
   "collapsed_sections": [],
   "name": "3. Simple_EDA.ipynb",
   "provenance": []
  },
  "kernelspec": {
   "display_name": "Python 3",
   "language": "python",
   "name": "python3"
  },
  "language_info": {
   "codemirror_mode": {
    "name": "ipython",
    "version": 3
   },
   "file_extension": ".py",
   "mimetype": "text/x-python",
   "name": "python",
   "nbconvert_exporter": "python",
   "pygments_lexer": "ipython3",
   "version": "3.8.5"
  }
 },
 "nbformat": 4,
 "nbformat_minor": 1
}
